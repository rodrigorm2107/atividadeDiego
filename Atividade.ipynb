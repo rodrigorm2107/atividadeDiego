{
 "cells": [
  {
   "cell_type": "code",
   "execution_count": 1,
   "metadata": {},
   "outputs": [
    {
     "name": "stdout",
     "output_type": "stream",
     "text": [
      "Python 3.6.11\r\n"
     ]
    }
   ],
   "source": [
    "!python --version"
   ]
  },
  {
   "cell_type": "code",
   "execution_count": 2,
   "metadata": {
    "scrolled": true
   },
   "outputs": [
    {
     "name": "stdout",
     "output_type": "stream",
     "text": [
      "Collecting pymongo[srv]\n",
      "  Downloading pymongo-3.11.1-cp36-cp36m-manylinux2014_x86_64.whl (509 kB)\n",
      "\u001b[K     |████████████████████████████████| 509 kB 2.9 MB/s eta 0:00:01\n",
      "\u001b[?25hCollecting dnspython<2.0.0,>=1.16.0; extra == \"srv\"\n",
      "  Downloading dnspython-1.16.0-py2.py3-none-any.whl (188 kB)\n",
      "\u001b[K     |████████████████████████████████| 188 kB 3.4 MB/s eta 0:00:01\n",
      "\u001b[?25hInstalling collected packages: dnspython, pymongo\n",
      "Successfully installed dnspython-1.16.0 pymongo-3.11.1\n"
     ]
    }
   ],
   "source": [
    "# Faz a instalação do pymongo\n",
    "!pip install pymongo[srv]"
   ]
  },
  {
   "cell_type": "code",
   "execution_count": null,
   "metadata": {},
   "outputs": [],
   "source": [
    "#Quantos documentos possui a coleção minas?\n",
    "minas.count_documents({})\n",
    "\n",
    "#Mostre os 5 primeiros documentos da coleção.\n",
    "list(minas.find().limit(5))\n",
    "\n",
    "#Selecione o documento que possui o maior número de solicitações QtdeSolic na Anatel.\n",
    "minas.find_one(sort=[(\"QtdeSolic\",\"pymongo.DESCENDING\")])\n",
    "                      \n",
    "#Qual é o menor número de solicitações QtdeSolic na Anatel?  \n",
    "valorMinimo = minas.aggregate(\"$group\":\"_id\": \"$_id\",\"minQtdeSolic\": { \"$min\": {\"$toInt\":\"$QtdeSolic\"} },\"$limit\" : 1 },\n",
    "list(valorMinimo)\n",
    "                              \n",
    "#Mostre todos os documentos com o menor número de solicitações QtdeSolic na Anatel.\n",
    "list(minas.find({\"QtdeSolic\": \"1\"}))\n",
    "                              \n",
    "#Mostre as contagens de solicitações QtdeSolic por tipo de serviço Servico, em ordem decrescente pelas contagens  \n",
    "list(\"minas.aggregate\",\"$group\":\"Tipo\":{\"$distinct\":\"$Tipo\"})\n",
    "                              \n",
    "#Mostre todos os documentos com atributo Tipo igual a \"Reclamação\".\n",
    "list(minas.find(\"Tipo\":\"Reclamação\"))          \n",
    "                 \n",
    "#Quais diferentes valores encontramos em Tipo?\n",
    "minas.distinct(\"Tipo\")                "
   ]
  }
 ],
 "metadata": {
  "kernelspec": {
   "display_name": "Python 3",
   "language": "python",
   "name": "python3"
  },
  "language_info": {
   "codemirror_mode": {
    "name": "ipython",
    "version": 3
   },
   "file_extension": ".py",
   "mimetype": "text/x-python",
   "name": "python",
   "nbconvert_exporter": "python",
   "pygments_lexer": "ipython3",
   "version": "3.6.11"
  }
 },
 "nbformat": 4,
 "nbformat_minor": 4
}
